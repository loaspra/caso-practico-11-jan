{
 "cells": [
  {
   "attachments": {},
   "cell_type": "markdown",
   "metadata": {},
   "source": [
    "# Caso Practico\n",
    "\n",
    "## Enunciado:\n",
    "\n",
    "En la empresa “Seguros CDF” se comercializa sus productos a través de distintos canales. Estos productos son adquiridos de manera voluntaria por los clientes y pueden ser cancelados en cualquier momento. El equipo comercial ha detectado que muchas de las ventas se cancelan dentro de los primeros 4 meses y necesita definir una estrategia proactiva para retener a sus clientes. Es por ello que se está apoyando en el equipo de Data Analytics de Seguros CDF para que mediante un modelo predictivo pueda ayudar a definir la estrategia más adecuada.\n",
    "\n",
    "\n",
    "## Planteamiento de la solucion:\n",
    "\n",
    "Modelo de Clasifiacion binary (binary classification model)\n",
    "\n",
    "`Target = 1` -> Se cancela el seguro dentro de los primeros 4 meses\n",
    "\n",
    "`Target = 0` -> No se cancela el seguro dentro de los primeros 4 meses\n",
    "\n",
    "### Modelos\n",
    "\n",
    "El modelo entregara la probabilidad `p`, dadas las features de entrada, de que el target = 1 se suscite.\n",
    "\n",
    "Dependiendo del valor de `p` se tomaran las medidas proactivas respectivas. Teniendo en cuenta que a mayor sea su valor, el modelo esta mas confidente de que se suscite la cancelacion del seguro.\n",
    "\n",
    "---\n",
    "\n",
    "> Santiago Madariaga Collado\n"
   ]
  },
  {
   "cell_type": "code",
   "execution_count": 267,
   "metadata": {},
   "outputs": [],
   "source": [
    "# Import the necessary libraries\n",
    "import numpy as np\n",
    "import pandas as pd\n",
    "import matplotlib.pyplot as plt\n",
    "import seaborn as sns\n",
    "\n",
    "import datetime\n",
    "\n",
    "# Para el modelo base\n",
    "# import libraries to create a binary classification model\n",
    "from sklearn.model_selection import train_test_split\n",
    "from sklearn.preprocessing import StandardScaler, OneHotEncoder\n",
    "from sklearn.linear_model import LogisticRegression\n",
    "from sklearn.metrics import accuracy_score, confusion_matrix, classification_report\n",
    "\n",
    "# Para el modelo final\n",
    "import lightgbm as lgb"
   ]
  },
  {
   "attachments": {},
   "cell_type": "markdown",
   "metadata": {},
   "source": [
    "# Exploratory Data Analysis\n",
    "\n",
    "\n",
    " + Descripcion de las variables numericas\n",
    "\n",
    " + "
   ]
  },
  {
   "cell_type": "code",
   "execution_count": 284,
   "metadata": {},
   "outputs": [
    {
     "name": "stdout",
     "output_type": "stream",
     "text": [
      "Unique values: 118952 | total non-null values: 120000\n",
      "Clientes unicos:116188 \n",
      "Clientes duplicados: 3812\n"
     ]
    },
    {
     "data": {
      "text/html": [
       "<div>\n",
       "<style scoped>\n",
       "    .dataframe tbody tr th:only-of-type {\n",
       "        vertical-align: middle;\n",
       "    }\n",
       "\n",
       "    .dataframe tbody tr th {\n",
       "        vertical-align: top;\n",
       "    }\n",
       "\n",
       "    .dataframe thead th {\n",
       "        text-align: right;\n",
       "    }\n",
       "</style>\n",
       "<table border=\"1\" class=\"dataframe\">\n",
       "  <thead>\n",
       "    <tr style=\"text-align: right;\">\n",
       "      <th></th>\n",
       "      <th>COD_CLIENTE</th>\n",
       "      <th>PRODUCTO</th>\n",
       "      <th>NUM_CERTIFICADO</th>\n",
       "      <th>FECHA_INICIO</th>\n",
       "      <th>FECHA_CANCELACION</th>\n",
       "      <th>FLAG_CANCELADO</th>\n",
       "    </tr>\n",
       "  </thead>\n",
       "  <tbody>\n",
       "    <tr>\n",
       "      <th>0</th>\n",
       "      <td>30bcb9290daee609d26c5780839c0a48e5faf39f65e1f2...</td>\n",
       "      <td>1</td>\n",
       "      <td>c940427a73c497b10f1f223ddb416f7403293120821172...</td>\n",
       "      <td>2021-03-12</td>\n",
       "      <td>2021-03-18 00:00:00</td>\n",
       "      <td>1</td>\n",
       "    </tr>\n",
       "    <tr>\n",
       "      <th>1</th>\n",
       "      <td>bad01b3b590275f7b1729f2012b2eb05a820f1217544d7...</td>\n",
       "      <td>4</td>\n",
       "      <td>5d31273ad02e1f9626faed1ee3a9ac7dab01aef1d239bb...</td>\n",
       "      <td>2021-07-23</td>\n",
       "      <td>2021-10-07 00:00:00</td>\n",
       "      <td>1</td>\n",
       "    </tr>\n",
       "    <tr>\n",
       "      <th>2</th>\n",
       "      <td>e2350ee66445c6e35dcf05a42684e0625b479762e1cfc3...</td>\n",
       "      <td>1</td>\n",
       "      <td>c0663d4b54e3901f68d9b70d4e2f2b747831be2a23efc7...</td>\n",
       "      <td>2021-09-27</td>\n",
       "      <td>2022-02-01 00:00:00</td>\n",
       "      <td>1</td>\n",
       "    </tr>\n",
       "    <tr>\n",
       "      <th>3</th>\n",
       "      <td>8dae800d252d2fbb817ca498bb8cbdf4e77f46a02260e7...</td>\n",
       "      <td>1</td>\n",
       "      <td>1c23156ed8e7de34160f513305d84d30ef00a73e044629...</td>\n",
       "      <td>2022-05-09</td>\n",
       "      <td>-</td>\n",
       "      <td>0</td>\n",
       "    </tr>\n",
       "    <tr>\n",
       "      <th>4</th>\n",
       "      <td>9a0f0371a3754818a5dc983ab96bc799e25743821d4bdf...</td>\n",
       "      <td>1</td>\n",
       "      <td>2caa655347e3584e3c977f6ee2fd0834e43213272df493...</td>\n",
       "      <td>2021-09-13</td>\n",
       "      <td>2022-12-12 00:00:00</td>\n",
       "      <td>1</td>\n",
       "    </tr>\n",
       "  </tbody>\n",
       "</table>\n",
       "</div>"
      ],
      "text/plain": [
       "                                         COD_CLIENTE  PRODUCTO  \\\n",
       "0  30bcb9290daee609d26c5780839c0a48e5faf39f65e1f2...         1   \n",
       "1  bad01b3b590275f7b1729f2012b2eb05a820f1217544d7...         4   \n",
       "2  e2350ee66445c6e35dcf05a42684e0625b479762e1cfc3...         1   \n",
       "3  8dae800d252d2fbb817ca498bb8cbdf4e77f46a02260e7...         1   \n",
       "4  9a0f0371a3754818a5dc983ab96bc799e25743821d4bdf...         1   \n",
       "\n",
       "                                     NUM_CERTIFICADO FECHA_INICIO  \\\n",
       "0  c940427a73c497b10f1f223ddb416f7403293120821172...   2021-03-12   \n",
       "1  5d31273ad02e1f9626faed1ee3a9ac7dab01aef1d239bb...   2021-07-23   \n",
       "2  c0663d4b54e3901f68d9b70d4e2f2b747831be2a23efc7...   2021-09-27   \n",
       "3  1c23156ed8e7de34160f513305d84d30ef00a73e044629...   2022-05-09   \n",
       "4  2caa655347e3584e3c977f6ee2fd0834e43213272df493...   2021-09-13   \n",
       "\n",
       "     FECHA_CANCELACION  FLAG_CANCELADO  \n",
       "0  2021-03-18 00:00:00               1  \n",
       "1  2021-10-07 00:00:00               1  \n",
       "2  2022-02-01 00:00:00               1  \n",
       "3                    -               0  \n",
       "4  2022-12-12 00:00:00               1  "
      ]
     },
     "execution_count": 284,
     "metadata": {},
     "output_type": "execute_result"
    }
   ],
   "source": [
    "# Import the dataset\n",
    "# read a xlsx file using pandas \n",
    "# https://pandas.pydata.org/pandas-docs/stable/reference/api/pandas.read_excel.html\n",
    "\n",
    "dataset = pd.read_excel('Base_Cancelaciones_UseCase.xlsx')\n",
    "\n",
    "# El numero del certificado representa un contrato, por lo que es un dato unico\n",
    "print(f\"Unique values: {len(dataset.NUM_CERTIFICADO.unique())} | total non-null values: {dataset.NUM_CERTIFICADO.dropna().count()}\")\n",
    "\n",
    "print(f\"Clientes unicos:{len(dataset.COD_CLIENTE.unique())} \\nClientes duplicados: {dataset.COD_CLIENTE.duplicated().sum()}\"  )\n",
    "\n",
    "dataset.head()"
   ]
  },
  {
   "attachments": {},
   "cell_type": "markdown",
   "metadata": {},
   "source": [
    " + Se asume que **NUM_CERTICIADO** es la llave primaria de los datos. Es decir, no pueden haber certificados duplicados."
   ]
  },
  {
   "cell_type": "code",
   "execution_count": null,
   "metadata": {},
   "outputs": [],
   "source": [
    "dataset = dataset.drop_duplicates(subset=['NUM_CERTIFICADO'])"
   ]
  },
  {
   "cell_type": "code",
   "execution_count": null,
   "metadata": {},
   "outputs": [
    {
     "data": {
      "text/html": [
       "<div>\n",
       "<style scoped>\n",
       "    .dataframe tbody tr th:only-of-type {\n",
       "        vertical-align: middle;\n",
       "    }\n",
       "\n",
       "    .dataframe tbody tr th {\n",
       "        vertical-align: top;\n",
       "    }\n",
       "\n",
       "    .dataframe thead th {\n",
       "        text-align: right;\n",
       "    }\n",
       "</style>\n",
       "<table border=\"1\" class=\"dataframe\">\n",
       "  <thead>\n",
       "    <tr style=\"text-align: right;\">\n",
       "      <th></th>\n",
       "      <th>PRODUCTO</th>\n",
       "      <th>FLAG_CANCELADO</th>\n",
       "    </tr>\n",
       "  </thead>\n",
       "  <tbody>\n",
       "    <tr>\n",
       "      <th>count</th>\n",
       "      <td>78472.000000</td>\n",
       "      <td>78472.0</td>\n",
       "    </tr>\n",
       "    <tr>\n",
       "      <th>mean</th>\n",
       "      <td>1.701448</td>\n",
       "      <td>1.0</td>\n",
       "    </tr>\n",
       "    <tr>\n",
       "      <th>std</th>\n",
       "      <td>1.454984</td>\n",
       "      <td>0.0</td>\n",
       "    </tr>\n",
       "    <tr>\n",
       "      <th>min</th>\n",
       "      <td>1.000000</td>\n",
       "      <td>1.0</td>\n",
       "    </tr>\n",
       "    <tr>\n",
       "      <th>25%</th>\n",
       "      <td>1.000000</td>\n",
       "      <td>1.0</td>\n",
       "    </tr>\n",
       "    <tr>\n",
       "      <th>50%</th>\n",
       "      <td>1.000000</td>\n",
       "      <td>1.0</td>\n",
       "    </tr>\n",
       "    <tr>\n",
       "      <th>75%</th>\n",
       "      <td>1.000000</td>\n",
       "      <td>1.0</td>\n",
       "    </tr>\n",
       "    <tr>\n",
       "      <th>max</th>\n",
       "      <td>10.000000</td>\n",
       "      <td>1.0</td>\n",
       "    </tr>\n",
       "  </tbody>\n",
       "</table>\n",
       "</div>"
      ],
      "text/plain": [
       "           PRODUCTO  FLAG_CANCELADO\n",
       "count  78472.000000         78472.0\n",
       "mean       1.701448             1.0\n",
       "std        1.454984             0.0\n",
       "min        1.000000             1.0\n",
       "25%        1.000000             1.0\n",
       "50%        1.000000             1.0\n",
       "75%        1.000000             1.0\n",
       "max       10.000000             1.0"
      ]
     },
     "execution_count": 146,
     "metadata": {},
     "output_type": "execute_result"
    }
   ],
   "source": [
    "# Procesado de la fecha\n",
    "df_cancelados = dataset[dataset['FLAG_CANCELADO'] == 1].copy()\n",
    "\n",
    "# Convertir la fecha a datetime\n",
    "df_cancelados.FECHA_CANCELACION = pd.to_datetime(df_cancelados.FECHA_CANCELACION, format='%Y-%m-%d %H:%M:%S')\n",
    "\n",
    "df_cancelados.describe()"
   ]
  },
  {
   "cell_type": "code",
   "execution_count": null,
   "metadata": {},
   "outputs": [
    {
     "name": "stderr",
     "output_type": "stream",
     "text": [
      "C:\\Users\\olapu\\AppData\\Local\\Temp\\ipykernel_3472\\331559756.py:1: FutureWarning: Treating datetime data as categorical rather than numeric in `.describe` is deprecated and will be removed in a future version of pandas. Specify `datetime_is_numeric=True` to silence this warning and adopt the future behavior now.\n",
      "  df_cancelados.FECHA_INICIO.describe()\n"
     ]
    },
    {
     "data": {
      "text/plain": [
       "count                   79073\n",
       "unique                    612\n",
       "top       2021-05-31 00:00:00\n",
       "freq                      348\n",
       "first     2021-01-02 00:00:00\n",
       "last      2022-10-31 00:00:00\n",
       "Name: FECHA_INICIO, dtype: object"
      ]
     },
     "metadata": {},
     "output_type": "display_data"
    }
   ],
   "source": [
    "df_cancelados.FECHA_INICIO.describe()"
   ]
  },
  {
   "cell_type": "code",
   "execution_count": null,
   "metadata": {},
   "outputs": [],
   "source": [
    "dataset.groupby('PRODUCTO').count()"
   ]
  },
  {
   "cell_type": "code",
   "execution_count": null,
   "metadata": {},
   "outputs": [
    {
     "data": {
      "text/plain": [
       "<AxesSubplot:xlabel='PRODUCTO'>"
      ]
     },
     "execution_count": 205,
     "metadata": {},
     "output_type": "execute_result"
    },
    {
     "data": {
      "image/png": "[encoded data removed]",
      "text/plain": [
       "<Figure size 432x288 with 1 Axes>"
      ]
     },
     "metadata": {},
     "output_type": "display_data"
    }
   ],
   "source": [
    "# Fraccion de seguros cancelados, dependiendo del producto contratado\n",
    "dataset.groupby(['PRODUCTO', 'FLAG_CANCELADO']).size().unstack().plot(kind='bar', stacked=True)"
   ]
  },
  {
   "cell_type": "code",
   "execution_count": null,
   "metadata": {},
   "outputs": [
    {
     "data": {
      "text/plain": [
       "<seaborn.axisgrid.FacetGrid at 0x2373b664700>"
      ]
     },
     "execution_count": 201,
     "metadata": {},
     "output_type": "execute_result"
    },
    {
     "data": {
      "image/png": "[encoded data removed]",
      "text/plain": [
       "<Figure size 862.3x360 with 1 Axes>"
      ]
     },
     "metadata": {},
     "output_type": "display_data"
    }
   ],
   "source": [
    "sns.displot(data = df_cancelados, x = df_cancelados.FECHA_CANCELACION.dt.month, hue = df_cancelados.FECHA_CANCELACION.dt.year, palette=[\"C0\", \"C1\"], height=5, aspect=2)"
   ]
  },
  {
   "cell_type": "code",
   "execution_count": 250,
   "metadata": {},
   "outputs": [
    {
     "data": {
      "text/plain": [
       "(0.0, 15.0)"
      ]
     },
     "execution_count": 250,
     "metadata": {},
     "output_type": "execute_result"
    },
    {
     "data": {
      "image/png": "[encoded data removed]",
      "text/plain": [
       "<Figure size 720x360 with 1 Axes>"
      ]
     },
     "metadata": {},
     "output_type": "display_data"
    }
   ],
   "source": [
    "# Crear una columna con el numero de dias que ha estado vigente el seguro\n",
    "df_cancelados['DIAS_VIGENTE'] = (df_cancelados.FECHA_CANCELACION - df_cancelados.FECHA_INICIO).dt.days\n",
    "\n",
    "# Crear una columna con el numero de meses que ha estado vigente el seguro\n",
    "df_cancelados['MESES_VIGENTE'] = round(df_cancelados['DIAS_VIGENTE'] / 30.5)\n",
    "\n",
    "# sns.countplot(x = df_cancelados.MESES_VIGENTE, data = df_cancelados)\n",
    "plota = sns.displot(x = df_cancelados.MESES_VIGENTE, data = df_cancelados, height=5, aspect=2)\n",
    "plota.set(xlabel='Meses Vigente', ylabel='Frecuencia')\n",
    "plota.axes[0,0].set_xlim(0, 15)"
   ]
  },
  {
   "cell_type": "code",
   "execution_count": 255,
   "metadata": {},
   "outputs": [
    {
     "name": "stdout",
     "output_type": "stream",
     "text": [
      "N Feriados: 65\n",
      "mitad\n"
     ]
    }
   ],
   "source": [
    "# Crear una columna con los dias feriados \n",
    "# https://pandas.pydata.org/pandas-docs/stable/reference/api/pandas.DataFrame.apply.html\n",
    "\n",
    "holidays = [datetime.datetime.fromisoformat(f\"{y}-{x}\") for x in ['01-01',  '07-28', '07-29', '12-25', '12-31'] for y in ['2021', '2022']]\n",
    "\n",
    "holidays = list(set(np.array(list(map(lambda x: [x + datetime.timedelta(i) for i in range(-7, 3)], holidays))).flatten()))\n",
    "print(f\"N Feriados: {len(holidays)}\")\n",
    "\n",
    "\n",
    "# Crear columnas con los dias de contrato cancelado o creado, si se hicieron cerca de un feriado\n",
    "dataset['INICIO_FERIADO'] = dataset.FECHA_INICIO.apply(lambda x: x in holidays)\n",
    "print(\"mitad\")\n",
    "df_cancelados['CANCELADO_FERIADO'] = df_cancelados.FECHA_CANCELACION.apply(lambda x: x in holidays)"
   ]
  },
  {
   "attachments": {},
   "cell_type": "markdown",
   "metadata": {},
   "source": [
    "## Procesado de la data"
   ]
  },
  {
   "cell_type": "code",
   "execution_count": 301,
   "metadata": {},
   "outputs": [],
   "source": [
    "\n",
    "def process(df_: pd.DataFrame, holidays: list, input_cols = ['NUM_CERTIFICADO', 'COD_CLIENTE', 'FECHA_CANCELACION', 'FECHA_INICIO']):\n",
    "    \n",
    "    df = df_.copy()\n",
    "    # Convertir la fecha a datetime\n",
    "    df.FECHA_INICIO = pd.to_datetime(df.FECHA_INICIO, format='%Y-%m-%d %H:%M:%S')\n",
    "    df.FECHA_CANCELACION = df.FECHA_CANCELACION.apply(lambda x: pd.to_datetime(x, format='%Y-%m-%d %H:%M:%S') if x != '-' else x) \n",
    "\n",
    "    df['INICIO_FERIADO'] = df.FECHA_INICIO.apply(lambda x: x in holidays).astype(int)\n",
    "    dataset['SEMANA_INICIO'] = dataset.FECHA_INICIO.dt.isocalendar().week    \n",
    "\n",
    "    print(\"Fechas convertidas al formato\")\n",
    "    # One hot encoding Producto\n",
    "    df = pd.get_dummies(df, columns=['PRODUCTO'], prefix='PRODUCTO')\n",
    "\n",
    "    # Normalizar semana de inicio\n",
    "    minimo = df['SEMANA_INICIO'].min()\n",
    "    maximo = df['SEMANA_INICIO'].max()\n",
    "    df['SEMANA_INICIO'] = df['SEMANA_INICIO'].apply(lambda x: (x - minimo) / (maximo - minimo))\n",
    "    \n",
    "    # Convertir a la fecha en una funcion periodica\n",
    "    \n",
    "    df['INICIO_ENCODED'] = df.FECHA_INICIO.apply(lambda x: x.toordinal())\n",
    "    minimo = df['INICIO_ENCODED'].min()\n",
    "    maximo = df['INICIO_ENCODED'].max()\n",
    "    df['INICIO_ENCODED'] = df['INICIO_ENCODED'].apply(lambda x: (x - minimo) / (maximo - minimo))\n",
    "    df['INICIO_ENCODED'] = df['INICIO_ENCODED'].apply(lambda x: np.sin(x * 2 * np.pi))\n",
    "    df.sort_values(by='FECHA_INICIO', inplace=True)\n",
    "    print(\"Incio codificado\")\n",
    "    # Crear una columna con el numero de dias que ha estado vigente el seguro\n",
    "    df['DIAS_VIGENTE'] = df.apply(lambda x: x.FECHA_CANCELACION - df.FECHA_INICIO if df.FLAG_CANCELADO == 1 else -1)\n",
    "\n",
    "    # Crear una columna con el numero de meses que ha estado vigente el seguro\n",
    "    df['MESES_VIGENTE'] = round(df['DIAS_VIGENTE'] / 30.5)\n",
    "    print(\"labeling samples...\")\n",
    "    df['LABEL'] = df.MESES_VIGENTE.apply(lambda x: 1 if x <= 4 else 0)\n",
    "    \n",
    "    # Drop unnecesary cols para prevenir data leakage\n",
    "    df.drop(columns=input_cols, inplace=True)\n",
    "    \n",
    "    return df"
   ]
  },
  {
   "cell_type": "code",
   "execution_count": null,
   "metadata": {},
   "outputs": [],
   "source": [
    "# Crear una columna con el numero de la semana de la fecha de inicio\n",
    "holidays = [datetime.datetime.fromisoformat(f\"{y}-{x}\") for x in ['01-01',  '07-28', '07-29', '12-25', '12-31'] for y in ['2021', '2022']]\n",
    "\n",
    "holidays = list(set(np.array(list(map(lambda x: [x + datetime.timedelta(i) for i in range(-7, 3)], holidays))).flatten()))\n",
    "\n",
    "pro_df = process(dataset, holidays=holidays)"
   ]
  },
  {
   "cell_type": "code",
   "execution_count": null,
   "metadata": {},
   "outputs": [],
   "source": [
    "# split the dataset into train and test\n",
    "train_df, test_df = train_test_split(pro_df, shuffle = False, test_size = 0.2)\n",
    "\n",
    "# split the dataset into train and validation\n",
    "train_df, val_df = train_test_split(train_df, shuffle = False, test_size = 0.2)"
   ]
  },
  {
   "cell_type": "code",
   "execution_count": null,
   "metadata": {},
   "outputs": [
    {
     "data": {
      "text/html": [
       "<div>\n",
       "<style scoped>\n",
       "    .dataframe tbody tr th:only-of-type {\n",
       "        vertical-align: middle;\n",
       "    }\n",
       "\n",
       "    .dataframe tbody tr th {\n",
       "        vertical-align: top;\n",
       "    }\n",
       "\n",
       "    .dataframe thead th {\n",
       "        text-align: right;\n",
       "    }\n",
       "</style>\n",
       "<table border=\"1\" class=\"dataframe\">\n",
       "  <thead>\n",
       "    <tr style=\"text-align: right;\">\n",
       "      <th></th>\n",
       "      <th>COD_CLIENTE</th>\n",
       "      <th>NUM_CERTIFICADO</th>\n",
       "      <th>FECHA_INICIO</th>\n",
       "      <th>FECHA_CANCELACION</th>\n",
       "      <th>FLAG_CANCELADO</th>\n",
       "      <th>SEMANA_INICIO</th>\n",
       "    </tr>\n",
       "    <tr>\n",
       "      <th>PRODUCTO</th>\n",
       "      <th></th>\n",
       "      <th></th>\n",
       "      <th></th>\n",
       "      <th></th>\n",
       "      <th></th>\n",
       "      <th></th>\n",
       "    </tr>\n",
       "  </thead>\n",
       "  <tbody>\n",
       "    <tr>\n",
       "      <th>1</th>\n",
       "      <td>95784</td>\n",
       "      <td>95784</td>\n",
       "      <td>95784</td>\n",
       "      <td>95784</td>\n",
       "      <td>95784</td>\n",
       "      <td>95784</td>\n",
       "    </tr>\n",
       "    <tr>\n",
       "      <th>2</th>\n",
       "      <td>220</td>\n",
       "      <td>220</td>\n",
       "      <td>220</td>\n",
       "      <td>220</td>\n",
       "      <td>220</td>\n",
       "      <td>220</td>\n",
       "    </tr>\n",
       "    <tr>\n",
       "      <th>3</th>\n",
       "      <td>527</td>\n",
       "      <td>527</td>\n",
       "      <td>527</td>\n",
       "      <td>527</td>\n",
       "      <td>527</td>\n",
       "      <td>527</td>\n",
       "    </tr>\n",
       "    <tr>\n",
       "      <th>4</th>\n",
       "      <td>17471</td>\n",
       "      <td>17471</td>\n",
       "      <td>17471</td>\n",
       "      <td>17471</td>\n",
       "      <td>17471</td>\n",
       "      <td>17471</td>\n",
       "    </tr>\n",
       "    <tr>\n",
       "      <th>5</th>\n",
       "      <td>46</td>\n",
       "      <td>46</td>\n",
       "      <td>46</td>\n",
       "      <td>46</td>\n",
       "      <td>46</td>\n",
       "      <td>46</td>\n",
       "    </tr>\n",
       "    <tr>\n",
       "      <th>6</th>\n",
       "      <td>3116</td>\n",
       "      <td>3116</td>\n",
       "      <td>3116</td>\n",
       "      <td>3116</td>\n",
       "      <td>3116</td>\n",
       "      <td>3116</td>\n",
       "    </tr>\n",
       "    <tr>\n",
       "      <th>7</th>\n",
       "      <td>673</td>\n",
       "      <td>673</td>\n",
       "      <td>673</td>\n",
       "      <td>673</td>\n",
       "      <td>673</td>\n",
       "      <td>673</td>\n",
       "    </tr>\n",
       "    <tr>\n",
       "      <th>8</th>\n",
       "      <td>81</td>\n",
       "      <td>81</td>\n",
       "      <td>81</td>\n",
       "      <td>81</td>\n",
       "      <td>81</td>\n",
       "      <td>81</td>\n",
       "    </tr>\n",
       "    <tr>\n",
       "      <th>9</th>\n",
       "      <td>1941</td>\n",
       "      <td>1941</td>\n",
       "      <td>1941</td>\n",
       "      <td>1941</td>\n",
       "      <td>1941</td>\n",
       "      <td>1941</td>\n",
       "    </tr>\n",
       "    <tr>\n",
       "      <th>10</th>\n",
       "      <td>141</td>\n",
       "      <td>141</td>\n",
       "      <td>141</td>\n",
       "      <td>141</td>\n",
       "      <td>141</td>\n",
       "      <td>141</td>\n",
       "    </tr>\n",
       "  </tbody>\n",
       "</table>\n",
       "</div>"
      ],
      "text/plain": [
       "          COD_CLIENTE  NUM_CERTIFICADO  FECHA_INICIO  FECHA_CANCELACION  \\\n",
       "PRODUCTO                                                                  \n",
       "1               95784            95784         95784              95784   \n",
       "2                 220              220           220                220   \n",
       "3                 527              527           527                527   \n",
       "4               17471            17471         17471              17471   \n",
       "5                  46               46            46                 46   \n",
       "6                3116             3116          3116               3116   \n",
       "7                 673              673           673                673   \n",
       "8                  81               81            81                 81   \n",
       "9                1941             1941          1941               1941   \n",
       "10                141              141           141                141   \n",
       "\n",
       "          FLAG_CANCELADO  SEMANA_INICIO  \n",
       "PRODUCTO                                 \n",
       "1                  95784          95784  \n",
       "2                    220            220  \n",
       "3                    527            527  \n",
       "4                  17471          17471  \n",
       "5                     46             46  \n",
       "6                   3116           3116  \n",
       "7                    673            673  \n",
       "8                     81             81  \n",
       "9                   1941           1941  \n",
       "10                   141            141  "
      ]
     },
     "execution_count": 292,
     "metadata": {},
     "output_type": "execute_result"
    }
   ],
   "source": [
    "# Fit a logistic regression model with train_df dataset and predict the probability of the test_df dataset\n",
    "logreg = LogisticRegression(max_iter=1000)\n",
    "logreg.fit(train_df.drop('LABEL', axis = 1), train_df.drop('LABEL', axis = 1).LABEL)\n",
    "y_pred = logreg.predict_proba(test_df)[:, 1]"
   ]
  },
  {
   "cell_type": "code",
   "execution_count": null,
   "metadata": {},
   "outputs": [],
   "source": [
    "# Plot the ROC curvE\n",
    "from sklearn.metrics import roc_curve\n",
    "\n",
    "fpr, tpr, thresholds = roc_curve(test_df.LABEL, y_pred)"
   ]
  },
  {
   "cell_type": "code",
   "execution_count": null,
   "metadata": {},
   "outputs": [],
   "source": [
    "# GridSearch the best parameters for a LightGBM model\n",
    "from sklearn.model_selection import GridSearchCV\n",
    "from lightgbm import LGBMClassifier\n",
    "\n",
    "lgbm = LGBMClassifier()\n",
    "\n",
    "param_grid = {\n",
    "    'learning_rate': [0.01, 0.05, 0.1],\n",
    "    'n_estimators': [100, 200, 300],\n",
    "    'num_leaves': [31, 63, 127],\n",
    "\n",
    "}\n",
    "\n",
    "grid_search = GridSearchCV(estimator = lgbm, param_grid = param_grid,\n",
    "                            cv = 3, n_jobs = -1, verbose = 2)\n",
    "\n",
    "grid_search.fit(train_df.drop('LABEL', axis = 1), train_df.drop('LABEL', axis = 1).LABEL)\n",
    "\n",
    "# Fit a LightGBM model with train_df dataset and predict the probability of the test_df dataset\n",
    "lgbm = LGBMClassifier(learning_rate=0.05, n_estimators=300, num_leaves=31)\n",
    "lgbm.fit(train_df.drop('LABEL', axis = 1), train_df.drop('LABEL', axis = 1).LABEL)\n",
    "y_pred = lgbm.predict_proba(test_df)[:, 1]\n",
    "\n",
    "# graficar ROC\n",
    "from sklearn.metrics import roc_curve\n",
    "\n",
    "fpr, tpr, thresholds = roc_curve(test_df.LABEL, y_pred)\n"
   ]
  }
 ],
 "metadata": {
  "kernelspec": {
   "display_name": "base",
   "language": "python",
   "name": "python3"
  },
  "language_info": {
   "codemirror_mode": {
    "name": "ipython",
    "version": 3
   },
   "file_extension": ".py",
   "mimetype": "text/x-python",
   "name": "python",
   "nbconvert_exporter": "python",
   "pygments_lexer": "ipython3",
   "version": "3.9.7"
  },
  "orig_nbformat": 4,
  "vscode": {
   "interpreter": {
    "hash": "ad2bdc8ecc057115af97d19610ffacc2b4e99fae6737bb82f5d7fb13d2f2c186"
   }
  }
 },
 "nbformat": 4,
 "nbformat_minor": 2
}
